{
 "cells": [
  {
   "cell_type": "markdown",
   "metadata": {},
   "source": [
    "# 1-3 Blind source separation using FastICA"
   ]
  },
  {
   "cell_type": "code",
   "execution_count": 2,
   "metadata": {},
   "outputs": [
    {
     "name": "stdout",
     "output_type": "stream",
     "text": [
      "data-information: \n",
      " shape: (96, 12597793)\n",
      " duration: 516.00560128\n",
      " sample_rate: 24414.0625\n"
     ]
    }
   ],
   "source": [
    "import scipy.io as scio\n",
    "from scipy import signal\n",
    "import matplotlib.pyplot as plt\n",
    "from matplotlib import cm\n",
    "import numpy as np\n",
    "from pandas import *\n",
    "from pylab import *\n",
    "from sklearn.decomposition import FastICA\n",
    "import h5py\n",
    "%matplotlib inline  \n",
    "\n",
    "\n",
    "fnwb = h5py.File('indy_20161017_02.nwb', 'r')\n",
    "\n",
    "fs = 24414.0625\n",
    "channel = 96\n",
    "data = np.array(fnwb['acquisition']['timeseries']['broadband']['data']).T\n",
    "length = len(data[0])\n",
    "duration = length/fs\n",
    "print('data-information: \\n shape: ' + str(data.shape) + '\\n duration: '+  str(duration) + '\\n sample_rate: '+ str(fs))\n",
    "t = np.arange(0,length) / fs"
   ]
  },
  {
   "cell_type": "code",
   "execution_count": 5,
   "metadata": {},
   "outputs": [],
   "source": [
    "# Compute ICA\n",
    "s = int(80*fs)\n",
    "e = int(86*fs)\n",
    "X = data.T[s:e][0:-1]\n",
    "ica = FastICA(n_components=channel)\n",
    "S_ = ica.fit_transform(X)  # Reconstruct signals\n",
    "A_ = ica.mixing_  # Get estimated mixing matrix\n",
    "\n",
    "# We can `prove` that the ICA model applies by reverting the unmixing.\n",
    "assert np.allclose(X, np.dot(S_, A_.T) + ica.mean_)\n",
    "\n",
    "# # For comparison, compute PCA\n",
    "# pca = PCA(n_components=3)\n",
    "# H = pca.fit_transform(X)  # Reconstruct signals based on orthogonal components\n"
   ]
  },
  {
   "cell_type": "code",
   "execution_count": null,
   "metadata": {},
   "outputs": [],
   "source": [
    "\n",
    "# #############################################################################\n",
    "# Plot results\n",
    "\n",
    "\n",
    "#models = [X, S_]\n",
    "models = [S_]\n",
    "names = ['ICA recovered signals']\n",
    "\n",
    "\n",
    "\n",
    "for ii, (model, name) in enumerate(zip(models, names), 1):\n",
    "    print(name)\n",
    "    for sig in model.T:\n",
    "        plt.figure(figsize = (25, 1))\n",
    "        plt.plot(t,(sig-min(sig))/(max(sig)-min(sig)))\n",
    "        plt.show()\n",
    "\n",
    "\n"
   ]
  },
  {
   "cell_type": "code",
   "execution_count": null,
   "metadata": {},
   "outputs": [],
   "source": [
    "#start 17:14:14\n",
    "#ending ??"
   ]
  },
  {
   "cell_type": "code",
   "execution_count": null,
   "metadata": {},
   "outputs": [],
   "source": []
  }
 ],
 "metadata": {
  "kernelspec": {
   "display_name": "Python 3",
   "language": "python",
   "name": "python3"
  },
  "language_info": {
   "codemirror_mode": {
    "name": "ipython",
    "version": 3
   },
   "file_extension": ".py",
   "mimetype": "text/x-python",
   "name": "python",
   "nbconvert_exporter": "python",
   "pygments_lexer": "ipython3",
   "version": "3.6.8"
  }
 },
 "nbformat": 4,
 "nbformat_minor": 4
}
